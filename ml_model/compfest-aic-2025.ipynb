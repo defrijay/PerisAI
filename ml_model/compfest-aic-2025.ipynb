{
 "cells": [
  {
   "cell_type": "code",
   "execution_count": 1,
   "id": "f050736f",
   "metadata": {
    "_cell_guid": "b1076dfc-b9ad-4769-8c92-a6c4dae69d19",
    "_uuid": "8f2839f25d086af736a60e9eeb907d3b93b6e0e5",
    "execution": {
     "iopub.execute_input": "2025-07-24T01:00:53.912028Z",
     "iopub.status.busy": "2025-07-24T01:00:53.911494Z",
     "iopub.status.idle": "2025-07-24T01:00:55.374833Z",
     "shell.execute_reply": "2025-07-24T01:00:55.374034Z"
    },
    "papermill": {
     "duration": 1.469606,
     "end_time": "2025-07-24T01:00:55.376316",
     "exception": false,
     "start_time": "2025-07-24T01:00:53.906710",
     "status": "completed"
    },
    "tags": []
   },
   "outputs": [],
   "source": [
    "import numpy as np\n",
    "import pandas as pd \n",
    "import os"
   ]
  },
  {
   "cell_type": "code",
   "execution_count": 2,
   "id": "957c9b1d",
   "metadata": {
    "execution": {
     "iopub.execute_input": "2025-07-24T01:00:55.383826Z",
     "iopub.status.busy": "2025-07-24T01:00:55.383517Z",
     "iopub.status.idle": "2025-07-24T01:01:04.103039Z",
     "shell.execute_reply": "2025-07-24T01:01:04.102472Z"
    },
    "papermill": {
     "duration": 8.72457,
     "end_time": "2025-07-24T01:01:04.104398",
     "exception": false,
     "start_time": "2025-07-24T01:00:55.379828",
     "status": "completed"
    },
    "tags": []
   },
   "outputs": [],
   "source": [
    "wav_files = []\n",
    "for root, dirs, files in os.walk('/kaggle/input'):\n",
    "    for file in files:\n",
    "        if file.endswith('wav'):\n",
    "            wav_files.append(os.path.join(root, file))"
   ]
  },
  {
   "cell_type": "code",
   "execution_count": 3,
   "id": "d56a7e8a",
   "metadata": {
    "execution": {
     "iopub.execute_input": "2025-07-24T01:01:04.112234Z",
     "iopub.status.busy": "2025-07-24T01:01:04.111651Z",
     "iopub.status.idle": "2025-07-24T01:01:04.117493Z",
     "shell.execute_reply": "2025-07-24T01:01:04.116818Z"
    },
    "papermill": {
     "duration": 0.010582,
     "end_time": "2025-07-24T01:01:04.118527",
     "exception": false,
     "start_time": "2025-07-24T01:01:04.107945",
     "status": "completed"
    },
    "tags": []
   },
   "outputs": [],
   "source": [
    "df_audio = pd.DataFrame({'file_path': wav_files})"
   ]
  },
  {
   "cell_type": "code",
   "execution_count": 4,
   "id": "fb9d7c25",
   "metadata": {
    "execution": {
     "iopub.execute_input": "2025-07-24T01:01:04.125176Z",
     "iopub.status.busy": "2025-07-24T01:01:04.124985Z",
     "iopub.status.idle": "2025-07-24T01:01:04.138076Z",
     "shell.execute_reply": "2025-07-24T01:01:04.137359Z"
    },
    "papermill": {
     "duration": 0.01756,
     "end_time": "2025-07-24T01:01:04.139072",
     "exception": false,
     "start_time": "2025-07-24T01:01:04.121512",
     "status": "completed"
    },
    "tags": []
   },
   "outputs": [],
   "source": [
    "df_audio['label'] = df_audio['file_path'].apply(lambda x: os.path.basename(os.path.dirname(x)))"
   ]
  },
  {
   "cell_type": "code",
   "execution_count": 5,
   "id": "6a731539",
   "metadata": {
    "execution": {
     "iopub.execute_input": "2025-07-24T01:01:04.145643Z",
     "iopub.status.busy": "2025-07-24T01:01:04.145414Z",
     "iopub.status.idle": "2025-07-24T01:01:04.156071Z",
     "shell.execute_reply": "2025-07-24T01:01:04.155394Z"
    },
    "papermill": {
     "duration": 0.01506,
     "end_time": "2025-07-24T01:01:04.157114",
     "exception": false,
     "start_time": "2025-07-24T01:01:04.142054",
     "status": "completed"
    },
    "tags": []
   },
   "outputs": [],
   "source": [
    "import librosa"
   ]
  },
  {
   "cell_type": "code",
   "execution_count": 6,
   "id": "3ee4e822",
   "metadata": {
    "execution": {
     "iopub.execute_input": "2025-07-24T01:01:04.164745Z",
     "iopub.status.busy": "2025-07-24T01:01:04.164209Z",
     "iopub.status.idle": "2025-07-24T01:01:04.168853Z",
     "shell.execute_reply": "2025-07-24T01:01:04.168336Z"
    },
    "papermill": {
     "duration": 0.009149,
     "end_time": "2025-07-24T01:01:04.169902",
     "exception": false,
     "start_time": "2025-07-24T01:01:04.160753",
     "status": "completed"
    },
    "tags": []
   },
   "outputs": [],
   "source": [
    "def audio_process(file_path, target_frames):\n",
    "    y, sr = librosa.load(file_path)\n",
    "    mel = librosa.feature.melspectrogram(y=y)\n",
    "    mel_db = librosa.power_to_db(mel)\n",
    "\n",
    "    min_val = np.min(mel_db)\n",
    "    max_val = np.max(mel_db)\n",
    "\n",
    "    if (max_val - min_val) == 0:\n",
    "        norm_mel = np.zeros_like(mel_db)\n",
    "    else:\n",
    "        norm_mel = (mel_db - min_val) / (max_val - min_val)\n",
    "\n",
    "    current_frames = norm_mel.shape[1]\n",
    "    if current_frames > target_frames:\n",
    "        processed_spectrogram = norm_mel[:, :target_frames]\n",
    "    elif current_frames < target_frames:\n",
    "        padding = target_frames - current_frames\n",
    "        processed_spectrogram = np.pad(norm_mel, ((0, 0), (0, padding)), mode = 'constant')\n",
    "    else:\n",
    "        processed_spectrogram = norm_mel\n",
    "\n",
    "    return processed_spectrogram"
   ]
  },
  {
   "cell_type": "code",
   "execution_count": 7,
   "id": "91e39fac",
   "metadata": {
    "execution": {
     "iopub.execute_input": "2025-07-24T01:01:04.176788Z",
     "iopub.status.busy": "2025-07-24T01:01:04.176364Z",
     "iopub.status.idle": "2025-07-24T01:01:04.192005Z",
     "shell.execute_reply": "2025-07-24T01:01:04.191229Z"
    },
    "papermill": {
     "duration": 0.019986,
     "end_time": "2025-07-24T01:01:04.193028",
     "exception": false,
     "start_time": "2025-07-24T01:01:04.173042",
     "status": "completed"
    },
    "tags": []
   },
   "outputs": [
    {
     "data": {
      "text/html": [
       "<div>\n",
       "<style scoped>\n",
       "    .dataframe tbody tr th:only-of-type {\n",
       "        vertical-align: middle;\n",
       "    }\n",
       "\n",
       "    .dataframe tbody tr th {\n",
       "        vertical-align: top;\n",
       "    }\n",
       "\n",
       "    .dataframe thead th {\n",
       "        text-align: right;\n",
       "    }\n",
       "</style>\n",
       "<table border=\"1\" class=\"dataframe\">\n",
       "  <thead>\n",
       "    <tr style=\"text-align: right;\">\n",
       "      <th></th>\n",
       "      <th>file_path</th>\n",
       "      <th>label</th>\n",
       "    </tr>\n",
       "  </thead>\n",
       "  <tbody>\n",
       "    <tr>\n",
       "      <th>0</th>\n",
       "      <td>/kaggle/input/human-screaming-detection-datase...</td>\n",
       "      <td>Screaming</td>\n",
       "    </tr>\n",
       "    <tr>\n",
       "      <th>1</th>\n",
       "      <td>/kaggle/input/human-screaming-detection-datase...</td>\n",
       "      <td>Screaming</td>\n",
       "    </tr>\n",
       "    <tr>\n",
       "      <th>2</th>\n",
       "      <td>/kaggle/input/human-screaming-detection-datase...</td>\n",
       "      <td>Screaming</td>\n",
       "    </tr>\n",
       "    <tr>\n",
       "      <th>3</th>\n",
       "      <td>/kaggle/input/human-screaming-detection-datase...</td>\n",
       "      <td>Screaming</td>\n",
       "    </tr>\n",
       "    <tr>\n",
       "      <th>4</th>\n",
       "      <td>/kaggle/input/human-screaming-detection-datase...</td>\n",
       "      <td>Screaming</td>\n",
       "    </tr>\n",
       "  </tbody>\n",
       "</table>\n",
       "</div>"
      ],
      "text/plain": [
       "                                           file_path      label\n",
       "0  /kaggle/input/human-screaming-detection-datase...  Screaming\n",
       "1  /kaggle/input/human-screaming-detection-datase...  Screaming\n",
       "2  /kaggle/input/human-screaming-detection-datase...  Screaming\n",
       "3  /kaggle/input/human-screaming-detection-datase...  Screaming\n",
       "4  /kaggle/input/human-screaming-detection-datase...  Screaming"
      ]
     },
     "execution_count": 7,
     "metadata": {},
     "output_type": "execute_result"
    }
   ],
   "source": [
    "df_audio.head()"
   ]
  },
  {
   "cell_type": "code",
   "execution_count": 8,
   "id": "f0d5f6aa",
   "metadata": {
    "execution": {
     "iopub.execute_input": "2025-07-24T01:01:04.200282Z",
     "iopub.status.busy": "2025-07-24T01:01:04.200077Z",
     "iopub.status.idle": "2025-07-24T01:01:04.202920Z",
     "shell.execute_reply": "2025-07-24T01:01:04.202436Z"
    },
    "papermill": {
     "duration": 0.007667,
     "end_time": "2025-07-24T01:01:04.203909",
     "exception": false,
     "start_time": "2025-07-24T01:01:04.196242",
     "status": "completed"
    },
    "tags": []
   },
   "outputs": [],
   "source": [
    "OUTPUT_FOLDER_NAME = 'processed_spectrogram'"
   ]
  },
  {
   "cell_type": "code",
   "execution_count": 9,
   "id": "23b5927c",
   "metadata": {
    "execution": {
     "iopub.execute_input": "2025-07-24T01:01:04.211421Z",
     "iopub.status.busy": "2025-07-24T01:01:04.211234Z",
     "iopub.status.idle": "2025-07-24T01:04:33.675591Z",
     "shell.execute_reply": "2025-07-24T01:04:33.674948Z"
    },
    "papermill": {
     "duration": 209.469388,
     "end_time": "2025-07-24T01:04:33.677116",
     "exception": false,
     "start_time": "2025-07-24T01:01:04.207728",
     "status": "completed"
    },
    "tags": []
   },
   "outputs": [],
   "source": [
    "processed_data = []\n",
    "os.makedirs(OUTPUT_FOLDER_NAME, exist_ok=True)\n",
    "for i, row in df_audio.iterrows():\n",
    "    audio_path = row['file_path']\n",
    "    label = row['label']\n",
    "    spectrogram_data = audio_process(audio_path, 500)\n",
    "\n",
    "    output_filename = f\"{os.path.splitext(os.path.basename(audio_path))[0]}.npy\"\n",
    "    output_filepath = os.path.join(OUTPUT_FOLDER_NAME, output_filename)\n",
    "    np.save(output_filepath, spectrogram_data)\n",
    "\n",
    "    processed_data.append({\n",
    "        'spectrogram_path': output_filepath,\n",
    "        'label': label\n",
    "    })"
   ]
  },
  {
   "cell_type": "code",
   "execution_count": 10,
   "id": "86488e00",
   "metadata": {
    "execution": {
     "iopub.execute_input": "2025-07-24T01:04:33.686593Z",
     "iopub.status.busy": "2025-07-24T01:04:33.686198Z",
     "iopub.status.idle": "2025-07-24T01:04:33.691850Z",
     "shell.execute_reply": "2025-07-24T01:04:33.691330Z"
    },
    "papermill": {
     "duration": 0.011129,
     "end_time": "2025-07-24T01:04:33.692788",
     "exception": false,
     "start_time": "2025-07-24T01:04:33.681659",
     "status": "completed"
    },
    "tags": []
   },
   "outputs": [],
   "source": [
    "processed_df = pd.DataFrame(processed_data)"
   ]
  },
  {
   "cell_type": "code",
   "execution_count": 11,
   "id": "8d9c17f9",
   "metadata": {
    "execution": {
     "iopub.execute_input": "2025-07-24T01:04:33.699608Z",
     "iopub.status.busy": "2025-07-24T01:04:33.699389Z",
     "iopub.status.idle": "2025-07-24T01:04:33.705837Z",
     "shell.execute_reply": "2025-07-24T01:04:33.705266Z"
    },
    "papermill": {
     "duration": 0.01103,
     "end_time": "2025-07-24T01:04:33.706867",
     "exception": false,
     "start_time": "2025-07-24T01:04:33.695837",
     "status": "completed"
    },
    "tags": []
   },
   "outputs": [
    {
     "data": {
      "text/html": [
       "<div>\n",
       "<style scoped>\n",
       "    .dataframe tbody tr th:only-of-type {\n",
       "        vertical-align: middle;\n",
       "    }\n",
       "\n",
       "    .dataframe tbody tr th {\n",
       "        vertical-align: top;\n",
       "    }\n",
       "\n",
       "    .dataframe thead th {\n",
       "        text-align: right;\n",
       "    }\n",
       "</style>\n",
       "<table border=\"1\" class=\"dataframe\">\n",
       "  <thead>\n",
       "    <tr style=\"text-align: right;\">\n",
       "      <th></th>\n",
       "      <th>spectrogram_path</th>\n",
       "      <th>label</th>\n",
       "    </tr>\n",
       "  </thead>\n",
       "  <tbody>\n",
       "    <tr>\n",
       "      <th>0</th>\n",
       "      <td>processed_spectrogram/nIFbKv1qjfw_out.npy</td>\n",
       "      <td>Screaming</td>\n",
       "    </tr>\n",
       "    <tr>\n",
       "      <th>1</th>\n",
       "      <td>processed_spectrogram/d4v3_z0ISrM_out.npy</td>\n",
       "      <td>Screaming</td>\n",
       "    </tr>\n",
       "    <tr>\n",
       "      <th>2</th>\n",
       "      <td>processed_spectrogram/9AZZncb_yek_out.npy</td>\n",
       "      <td>Screaming</td>\n",
       "    </tr>\n",
       "    <tr>\n",
       "      <th>3</th>\n",
       "      <td>processed_spectrogram/IdenFdkeASo_out.npy</td>\n",
       "      <td>Screaming</td>\n",
       "    </tr>\n",
       "    <tr>\n",
       "      <th>4</th>\n",
       "      <td>processed_spectrogram/LY90s5AgkWM_out.npy</td>\n",
       "      <td>Screaming</td>\n",
       "    </tr>\n",
       "  </tbody>\n",
       "</table>\n",
       "</div>"
      ],
      "text/plain": [
       "                            spectrogram_path      label\n",
       "0  processed_spectrogram/nIFbKv1qjfw_out.npy  Screaming\n",
       "1  processed_spectrogram/d4v3_z0ISrM_out.npy  Screaming\n",
       "2  processed_spectrogram/9AZZncb_yek_out.npy  Screaming\n",
       "3  processed_spectrogram/IdenFdkeASo_out.npy  Screaming\n",
       "4  processed_spectrogram/LY90s5AgkWM_out.npy  Screaming"
      ]
     },
     "execution_count": 11,
     "metadata": {},
     "output_type": "execute_result"
    }
   ],
   "source": [
    "processed_df.head()"
   ]
  },
  {
   "cell_type": "code",
   "execution_count": 12,
   "id": "23584a27",
   "metadata": {
    "execution": {
     "iopub.execute_input": "2025-07-24T01:04:33.714175Z",
     "iopub.status.busy": "2025-07-24T01:04:33.713683Z",
     "iopub.status.idle": "2025-07-24T01:04:47.268778Z",
     "shell.execute_reply": "2025-07-24T01:04:47.268124Z"
    },
    "papermill": {
     "duration": 13.560058,
     "end_time": "2025-07-24T01:04:47.270104",
     "exception": false,
     "start_time": "2025-07-24T01:04:33.710046",
     "status": "completed"
    },
    "tags": []
   },
   "outputs": [
    {
     "name": "stderr",
     "output_type": "stream",
     "text": [
      "2025-07-24 01:04:35.050368: E external/local_xla/xla/stream_executor/cuda/cuda_fft.cc:477] Unable to register cuFFT factory: Attempting to register factory for plugin cuFFT when one has already been registered\n",
      "WARNING: All log messages before absl::InitializeLog() is called are written to STDERR\n",
      "E0000 00:00:1753319075.214152      19 cuda_dnn.cc:8310] Unable to register cuDNN factory: Attempting to register factory for plugin cuDNN when one has already been registered\n",
      "E0000 00:00:1753319075.258513      19 cuda_blas.cc:1418] Unable to register cuBLAS factory: Attempting to register factory for plugin cuBLAS when one has already been registered\n"
     ]
    }
   ],
   "source": [
    "import tensorflow as tf\n",
    "from sklearn.model_selection import StratifiedKFold\n",
    "from sklearn.preprocessing import LabelEncoder\n",
    "from tensorflow.keras import layers, models, optimizers\n",
    "\n",
    "X = []\n",
    "y = []\n",
    "\n",
    "for index, row in processed_df.iterrows():\n",
    "    spectrogram = np.load(row['spectrogram_path'])\n",
    "    X.append(spectrogram)\n",
    "    y.append(row['label'])\n",
    "\n",
    "X = np.array(X)\n",
    "y = np.array(y)\n",
    "\n",
    "label_encoder = LabelEncoder()\n",
    "y_encoded = label_encoder.fit_transform(y)\n",
    "num_classes = len(label_encoder.classes_)"
   ]
  },
  {
   "cell_type": "code",
   "execution_count": 13,
   "id": "6274bd07",
   "metadata": {
    "execution": {
     "iopub.execute_input": "2025-07-24T01:04:47.278788Z",
     "iopub.status.busy": "2025-07-24T01:04:47.277753Z",
     "iopub.status.idle": "2025-07-24T01:04:47.283363Z",
     "shell.execute_reply": "2025-07-24T01:04:47.282694Z"
    },
    "papermill": {
     "duration": 0.010646,
     "end_time": "2025-07-24T01:04:47.284411",
     "exception": false,
     "start_time": "2025-07-24T01:04:47.273765",
     "status": "completed"
    },
    "tags": []
   },
   "outputs": [
    {
     "data": {
      "text/plain": [
       "(3493, 128, 500)"
      ]
     },
     "execution_count": 13,
     "metadata": {},
     "output_type": "execute_result"
    }
   ],
   "source": [
    "X.shape"
   ]
  },
  {
   "cell_type": "code",
   "execution_count": 14,
   "id": "426e662d",
   "metadata": {
    "execution": {
     "iopub.execute_input": "2025-07-24T01:04:47.292072Z",
     "iopub.status.busy": "2025-07-24T01:04:47.291552Z",
     "iopub.status.idle": "2025-07-24T01:04:47.295707Z",
     "shell.execute_reply": "2025-07-24T01:04:47.295143Z"
    },
    "papermill": {
     "duration": 0.008919,
     "end_time": "2025-07-24T01:04:47.296644",
     "exception": false,
     "start_time": "2025-07-24T01:04:47.287725",
     "status": "completed"
    },
    "tags": []
   },
   "outputs": [
    {
     "data": {
      "text/plain": [
       "(3493,)"
      ]
     },
     "execution_count": 14,
     "metadata": {},
     "output_type": "execute_result"
    }
   ],
   "source": [
    "y_encoded.shape"
   ]
  },
  {
   "cell_type": "code",
   "execution_count": 15,
   "id": "c838b3b3",
   "metadata": {
    "execution": {
     "iopub.execute_input": "2025-07-24T01:04:47.303952Z",
     "iopub.status.busy": "2025-07-24T01:04:47.303765Z",
     "iopub.status.idle": "2025-07-24T01:04:47.306979Z",
     "shell.execute_reply": "2025-07-24T01:04:47.306456Z"
    },
    "papermill": {
     "duration": 0.007923,
     "end_time": "2025-07-24T01:04:47.307939",
     "exception": false,
     "start_time": "2025-07-24T01:04:47.300016",
     "status": "completed"
    },
    "tags": []
   },
   "outputs": [],
   "source": [
    "if len(X.shape) == 3:\n",
    "    X = np.expand_dims(X, axis=-1)"
   ]
  },
  {
   "cell_type": "code",
   "execution_count": 16,
   "id": "25655495",
   "metadata": {
    "execution": {
     "iopub.execute_input": "2025-07-24T01:04:47.315656Z",
     "iopub.status.busy": "2025-07-24T01:04:47.315276Z",
     "iopub.status.idle": "2025-07-24T01:04:47.944006Z",
     "shell.execute_reply": "2025-07-24T01:04:47.943290Z"
    },
    "papermill": {
     "duration": 0.633722,
     "end_time": "2025-07-24T01:04:47.945266",
     "exception": false,
     "start_time": "2025-07-24T01:04:47.311544",
     "status": "completed"
    },
    "tags": []
   },
   "outputs": [
    {
     "name": "stdout",
     "output_type": "stream",
     "text": [
      "1 Physical GPUs, 1 Logical GPUs\n",
      "GPU is available and configured for use.\n"
     ]
    },
    {
     "name": "stderr",
     "output_type": "stream",
     "text": [
      "I0000 00:00:1753319087.939910      19 gpu_device.cc:2022] Created device /job:localhost/replica:0/task:0/device:GPU:0 with 15513 MB memory:  -> device: 0, name: Tesla P100-PCIE-16GB, pci bus id: 0000:00:04.0, compute capability: 6.0\n"
     ]
    }
   ],
   "source": [
    "gpus = tf.config.list_physical_devices('GPU')\n",
    "if gpus:\n",
    "    try:\n",
    "        for gpu in gpus:\n",
    "            tf.config.experimental.set_memory_growth(gpu, True)\n",
    "        logical_gpus = tf.config.list_logical_devices('GPU')\n",
    "        print(len(gpus), \"Physical GPUs,\", len(logical_gpus), \"Logical GPUs\")\n",
    "        print(\"GPU is available and configured for use.\")\n",
    "    except RuntimeError as e:\n",
    "        print(e)\n",
    "        print(\"GPU is available but could not be configured. Falling back to CPU.\")\n",
    "else:\n",
    "    print(\"No GPU detected. TensorFlow will run on CPU.\")"
   ]
  },
  {
   "cell_type": "code",
   "execution_count": 17,
   "id": "abfb7aa3",
   "metadata": {
    "execution": {
     "iopub.execute_input": "2025-07-24T01:04:47.954032Z",
     "iopub.status.busy": "2025-07-24T01:04:47.953453Z",
     "iopub.status.idle": "2025-07-24T01:04:47.959098Z",
     "shell.execute_reply": "2025-07-24T01:04:47.958485Z"
    },
    "papermill": {
     "duration": 0.010948,
     "end_time": "2025-07-24T01:04:47.960036",
     "exception": false,
     "start_time": "2025-07-24T01:04:47.949088",
     "status": "completed"
    },
    "tags": []
   },
   "outputs": [
    {
     "name": "stdout",
     "output_type": "stream",
     "text": [
      "Input shape untuk model: (128, 500, 1)\n"
     ]
    }
   ],
   "source": [
    "def create_cnn_model(input_shape, num_classes):\n",
    "    model = models.Sequential([\n",
    "        layers.Input(shape=input_shape),\n",
    "        layers.Conv2D(32, (3, 3), activation='relu', padding='same'),\n",
    "        layers.BatchNormalization(),\n",
    "        layers.MaxPooling2D((2, 2)),\n",
    "\n",
    "        layers.Conv2D(64, (3, 3), activation='relu', padding='same'),\n",
    "        layers.BatchNormalization(),\n",
    "        layers.MaxPooling2D((2, 2)),\n",
    "\n",
    "        layers.Conv2D(128, (3, 3), activation='relu', padding='same'),\n",
    "        layers.BatchNormalization(),\n",
    "        layers.MaxPooling2D((2, 2)),\n",
    "\n",
    "        layers.Flatten(),\n",
    "        layers.Dense(256, activation='relu'),\n",
    "        layers.Dropout(0.5),\n",
    "        layers.Dense(num_classes, activation='softmax')\n",
    "    ])\n",
    "    model.compile(optimizer='adam',\n",
    "                  loss='sparse_categorical_crossentropy',\n",
    "                  metrics=['accuracy'])\n",
    "    return model\n",
    "\n",
    "input_shape = X.shape[1:]\n",
    "print(f\"Input shape untuk model: {input_shape}\")"
   ]
  },
  {
   "cell_type": "code",
   "execution_count": 18,
   "id": "7f8b74cf",
   "metadata": {
    "execution": {
     "iopub.execute_input": "2025-07-24T01:04:47.967803Z",
     "iopub.status.busy": "2025-07-24T01:04:47.967624Z",
     "iopub.status.idle": "2025-07-24T01:11:43.234168Z",
     "shell.execute_reply": "2025-07-24T01:11:43.233290Z"
    },
    "papermill": {
     "duration": 415.27193,
     "end_time": "2025-07-24T01:11:43.235517",
     "exception": false,
     "start_time": "2025-07-24T01:04:47.963587",
     "status": "completed"
    },
    "tags": []
   },
   "outputs": [
    {
     "name": "stdout",
     "output_type": "stream",
     "text": [
      "\n",
      "Fold 1/5\n",
      "Epoch 1/20\n"
     ]
    },
    {
     "name": "stderr",
     "output_type": "stream",
     "text": [
      "WARNING: All log messages before absl::InitializeLog() is called are written to STDERR\n",
      "I0000 00:00:1753319095.890230      69 service.cc:148] XLA service 0x78c9e8004710 initialized for platform CUDA (this does not guarantee that XLA will be used). Devices:\n",
      "I0000 00:00:1753319095.891195      69 service.cc:156]   StreamExecutor device (0): Tesla P100-PCIE-16GB, Compute Capability 6.0\n",
      "I0000 00:00:1753319096.340800      69 cuda_dnn.cc:529] Loaded cuDNN version 90300\n"
     ]
    },
    {
     "name": "stdout",
     "output_type": "stream",
     "text": [
      "\u001b[1m 5/88\u001b[0m \u001b[32m━\u001b[0m\u001b[37m━━━━━━━━━━━━━━━━━━━\u001b[0m \u001b[1m3s\u001b[0m 38ms/step - accuracy: 0.5706 - loss: 42.7209"
     ]
    },
    {
     "name": "stderr",
     "output_type": "stream",
     "text": [
      "I0000 00:00:1753319102.026016      69 device_compiler.h:188] Compiled cluster using XLA!  This line is logged at most once for the lifetime of the process.\n"
     ]
    },
    {
     "name": "stdout",
     "output_type": "stream",
     "text": [
      "\u001b[1m88/88\u001b[0m \u001b[32m━━━━━━━━━━━━━━━━━━━━\u001b[0m\u001b[37m\u001b[0m \u001b[1m20s\u001b[0m 108ms/step - accuracy: 0.6625 - loss: 13.8978 - val_accuracy: 0.2475 - val_loss: 59.4878\n",
      "Epoch 2/20\n",
      "\u001b[1m88/88\u001b[0m \u001b[32m━━━━━━━━━━━━━━━━━━━━\u001b[0m\u001b[37m\u001b[0m \u001b[1m3s\u001b[0m 39ms/step - accuracy: 0.7495 - loss: 0.6948 - val_accuracy: 0.5036 - val_loss: 11.2499\n",
      "Epoch 3/20\n",
      "\u001b[1m88/88\u001b[0m \u001b[32m━━━━━━━━━━━━━━━━━━━━\u001b[0m\u001b[37m\u001b[0m \u001b[1m3s\u001b[0m 39ms/step - accuracy: 0.8028 - loss: 0.4590 - val_accuracy: 0.7325 - val_loss: 13.3531\n",
      "Epoch 4/20\n",
      "\u001b[1m88/88\u001b[0m \u001b[32m━━━━━━━━━━━━━━━━━━━━\u001b[0m\u001b[37m\u001b[0m \u001b[1m3s\u001b[0m 39ms/step - accuracy: 0.7943 - loss: 0.4300 - val_accuracy: 0.7468 - val_loss: 9.3976\n",
      "Epoch 5/20\n",
      "\u001b[1m88/88\u001b[0m \u001b[32m━━━━━━━━━━━━━━━━━━━━\u001b[0m\u001b[37m\u001b[0m \u001b[1m3s\u001b[0m 39ms/step - accuracy: 0.8037 - loss: 0.4426 - val_accuracy: 0.7554 - val_loss: 2.6835\n",
      "Epoch 6/20\n",
      "\u001b[1m88/88\u001b[0m \u001b[32m━━━━━━━━━━━━━━━━━━━━\u001b[0m\u001b[37m\u001b[0m \u001b[1m3s\u001b[0m 39ms/step - accuracy: 0.7748 - loss: 0.4691 - val_accuracy: 0.7997 - val_loss: 0.6725\n",
      "Epoch 7/20\n",
      "\u001b[1m88/88\u001b[0m \u001b[32m━━━━━━━━━━━━━━━━━━━━\u001b[0m\u001b[37m\u001b[0m \u001b[1m3s\u001b[0m 39ms/step - accuracy: 0.8063 - loss: 0.4370 - val_accuracy: 0.7983 - val_loss: 0.4778\n",
      "Epoch 8/20\n",
      "\u001b[1m88/88\u001b[0m \u001b[32m━━━━━━━━━━━━━━━━━━━━\u001b[0m\u001b[37m\u001b[0m \u001b[1m3s\u001b[0m 39ms/step - accuracy: 0.7958 - loss: 0.4076 - val_accuracy: 0.7639 - val_loss: 0.9866\n",
      "Epoch 9/20\n",
      "\u001b[1m88/88\u001b[0m \u001b[32m━━━━━━━━━━━━━━━━━━━━\u001b[0m\u001b[37m\u001b[0m \u001b[1m3s\u001b[0m 39ms/step - accuracy: 0.7999 - loss: 0.4790 - val_accuracy: 0.7997 - val_loss: 0.4233\n",
      "Epoch 10/20\n",
      "\u001b[1m88/88\u001b[0m \u001b[32m━━━━━━━━━━━━━━━━━━━━\u001b[0m\u001b[37m\u001b[0m \u001b[1m3s\u001b[0m 39ms/step - accuracy: 0.7999 - loss: 0.4060 - val_accuracy: 0.7625 - val_loss: 0.5171\n",
      "Epoch 11/20\n",
      "\u001b[1m88/88\u001b[0m \u001b[32m━━━━━━━━━━━━━━━━━━━━\u001b[0m\u001b[37m\u001b[0m \u001b[1m3s\u001b[0m 39ms/step - accuracy: 0.7809 - loss: 0.4448 - val_accuracy: 0.7654 - val_loss: 0.9211\n",
      "Epoch 12/20\n",
      "\u001b[1m88/88\u001b[0m \u001b[32m━━━━━━━━━━━━━━━━━━━━\u001b[0m\u001b[37m\u001b[0m \u001b[1m3s\u001b[0m 39ms/step - accuracy: 0.8001 - loss: 0.4396 - val_accuracy: 0.8283 - val_loss: 0.4127\n",
      "Epoch 13/20\n",
      "\u001b[1m88/88\u001b[0m \u001b[32m━━━━━━━━━━━━━━━━━━━━\u001b[0m\u001b[37m\u001b[0m \u001b[1m3s\u001b[0m 39ms/step - accuracy: 0.8143 - loss: 0.4281 - val_accuracy: 0.8097 - val_loss: 0.4743\n",
      "Epoch 14/20\n",
      "\u001b[1m88/88\u001b[0m \u001b[32m━━━━━━━━━━━━━━━━━━━━\u001b[0m\u001b[37m\u001b[0m \u001b[1m3s\u001b[0m 39ms/step - accuracy: 0.8163 - loss: 0.4196 - val_accuracy: 0.7926 - val_loss: 0.5520\n",
      "Epoch 15/20\n",
      "\u001b[1m88/88\u001b[0m \u001b[32m━━━━━━━━━━━━━━━━━━━━\u001b[0m\u001b[37m\u001b[0m \u001b[1m3s\u001b[0m 39ms/step - accuracy: 0.8211 - loss: 0.3959 - val_accuracy: 0.8197 - val_loss: 0.3994\n",
      "Epoch 16/20\n",
      "\u001b[1m88/88\u001b[0m \u001b[32m━━━━━━━━━━━━━━━━━━━━\u001b[0m\u001b[37m\u001b[0m \u001b[1m3s\u001b[0m 39ms/step - accuracy: 0.8145 - loss: 0.3678 - val_accuracy: 0.8183 - val_loss: 0.4327\n",
      "Epoch 17/20\n",
      "\u001b[1m88/88\u001b[0m \u001b[32m━━━━━━━━━━━━━━━━━━━━\u001b[0m\u001b[37m\u001b[0m \u001b[1m3s\u001b[0m 40ms/step - accuracy: 0.8048 - loss: 0.4267 - val_accuracy: 0.7883 - val_loss: 0.4430\n",
      "Epoch 18/20\n",
      "\u001b[1m88/88\u001b[0m \u001b[32m━━━━━━━━━━━━━━━━━━━━\u001b[0m\u001b[37m\u001b[0m \u001b[1m3s\u001b[0m 39ms/step - accuracy: 0.7816 - loss: 0.4176 - val_accuracy: 0.8298 - val_loss: 0.4689\n",
      "Epoch 19/20\n",
      "\u001b[1m88/88\u001b[0m \u001b[32m━━━━━━━━━━━━━━━━━━━━\u001b[0m\u001b[37m\u001b[0m \u001b[1m3s\u001b[0m 39ms/step - accuracy: 0.8091 - loss: 0.3574 - val_accuracy: 0.8026 - val_loss: 0.5941\n",
      "Epoch 20/20\n",
      "\u001b[1m88/88\u001b[0m \u001b[32m━━━━━━━━━━━━━━━━━━━━\u001b[0m\u001b[37m\u001b[0m \u001b[1m3s\u001b[0m 39ms/step - accuracy: 0.8341 - loss: 0.3995 - val_accuracy: 0.8069 - val_loss: 0.9745\n",
      "Fold 1 Validation Loss: 0.9745, Accuracy: 0.8069\n",
      "\n",
      "Fold 2/5\n",
      "Epoch 1/20\n",
      "\u001b[1m88/88\u001b[0m \u001b[32m━━━━━━━━━━━━━━━━━━━━\u001b[0m\u001b[37m\u001b[0m \u001b[1m13s\u001b[0m 72ms/step - accuracy: 0.6748 - loss: 17.9311 - val_accuracy: 0.2475 - val_loss: 81.7297\n",
      "Epoch 2/20\n",
      "\u001b[1m88/88\u001b[0m \u001b[32m━━━━━━━━━━━━━━━━━━━━\u001b[0m\u001b[37m\u001b[0m \u001b[1m3s\u001b[0m 40ms/step - accuracy: 0.7547 - loss: 1.1227 - val_accuracy: 0.4979 - val_loss: 18.1597\n",
      "Epoch 3/20\n",
      "\u001b[1m88/88\u001b[0m \u001b[32m━━━━━━━━━━━━━━━━━━━━\u001b[0m\u001b[37m\u001b[0m \u001b[1m3s\u001b[0m 39ms/step - accuracy: 0.7579 - loss: 0.6725 - val_accuracy: 0.6109 - val_loss: 16.6950\n",
      "Epoch 4/20\n",
      "\u001b[1m88/88\u001b[0m \u001b[32m━━━━━━━━━━━━━━━━━━━━\u001b[0m\u001b[37m\u001b[0m \u001b[1m3s\u001b[0m 40ms/step - accuracy: 0.7489 - loss: 0.4804 - val_accuracy: 0.7082 - val_loss: 10.8004\n",
      "Epoch 5/20\n",
      "\u001b[1m88/88\u001b[0m \u001b[32m━━━━━━━━━━━━━━━━━━━━\u001b[0m\u001b[37m\u001b[0m \u001b[1m3s\u001b[0m 39ms/step - accuracy: 0.7424 - loss: 0.4651 - val_accuracy: 0.7067 - val_loss: 2.5943\n",
      "Epoch 6/20\n",
      "\u001b[1m88/88\u001b[0m \u001b[32m━━━━━━━━━━━━━━━━━━━━\u001b[0m\u001b[37m\u001b[0m \u001b[1m3s\u001b[0m 39ms/step - accuracy: 0.7509 - loss: 0.4730 - val_accuracy: 0.7539 - val_loss: 0.5932\n",
      "Epoch 7/20\n",
      "\u001b[1m88/88\u001b[0m \u001b[32m━━━━━━━━━━━━━━━━━━━━\u001b[0m\u001b[37m\u001b[0m \u001b[1m3s\u001b[0m 39ms/step - accuracy: 0.7441 - loss: 0.5067 - val_accuracy: 0.7496 - val_loss: 0.4713\n",
      "Epoch 8/20\n",
      "\u001b[1m88/88\u001b[0m \u001b[32m━━━━━━━━━━━━━━━━━━━━\u001b[0m\u001b[37m\u001b[0m \u001b[1m3s\u001b[0m 39ms/step - accuracy: 0.7652 - loss: 0.4165 - val_accuracy: 0.7711 - val_loss: 0.4281\n",
      "Epoch 9/20\n",
      "\u001b[1m88/88\u001b[0m \u001b[32m━━━━━━━━━━━━━━━━━━━━\u001b[0m\u001b[37m\u001b[0m \u001b[1m3s\u001b[0m 39ms/step - accuracy: 0.7602 - loss: 0.3875 - val_accuracy: 0.7682 - val_loss: 0.6515\n",
      "Epoch 10/20\n",
      "\u001b[1m88/88\u001b[0m \u001b[32m━━━━━━━━━━━━━━━━━━━━\u001b[0m\u001b[37m\u001b[0m \u001b[1m3s\u001b[0m 39ms/step - accuracy: 0.8034 - loss: 0.6068 - val_accuracy: 0.8255 - val_loss: 0.4250\n",
      "Epoch 11/20\n",
      "\u001b[1m88/88\u001b[0m \u001b[32m━━━━━━━━━━━━━━━━━━━━\u001b[0m\u001b[37m\u001b[0m \u001b[1m3s\u001b[0m 39ms/step - accuracy: 0.7753 - loss: 0.4009 - val_accuracy: 0.7997 - val_loss: 0.4049\n",
      "Epoch 12/20\n",
      "\u001b[1m88/88\u001b[0m \u001b[32m━━━━━━━━━━━━━━━━━━━━\u001b[0m\u001b[37m\u001b[0m \u001b[1m3s\u001b[0m 39ms/step - accuracy: 0.7996 - loss: 0.4098 - val_accuracy: 0.8026 - val_loss: 0.4450\n",
      "Epoch 13/20\n",
      "\u001b[1m88/88\u001b[0m \u001b[32m━━━━━━━━━━━━━━━━━━━━\u001b[0m\u001b[37m\u001b[0m \u001b[1m3s\u001b[0m 39ms/step - accuracy: 0.7974 - loss: 0.3769 - val_accuracy: 0.8383 - val_loss: 0.3611\n",
      "Epoch 14/20\n",
      "\u001b[1m88/88\u001b[0m \u001b[32m━━━━━━━━━━━━━━━━━━━━\u001b[0m\u001b[37m\u001b[0m \u001b[1m3s\u001b[0m 39ms/step - accuracy: 0.8003 - loss: 0.3384 - val_accuracy: 0.7611 - val_loss: 0.4279\n",
      "Epoch 15/20\n",
      "\u001b[1m88/88\u001b[0m \u001b[32m━━━━━━━━━━━━━━━━━━━━\u001b[0m\u001b[37m\u001b[0m \u001b[1m3s\u001b[0m 39ms/step - accuracy: 0.7727 - loss: 0.3599 - val_accuracy: 0.8054 - val_loss: 0.4130\n",
      "Epoch 16/20\n",
      "\u001b[1m88/88\u001b[0m \u001b[32m━━━━━━━━━━━━━━━━━━━━\u001b[0m\u001b[37m\u001b[0m \u001b[1m3s\u001b[0m 38ms/step - accuracy: 0.8370 - loss: 0.3332 - val_accuracy: 0.8183 - val_loss: 0.8363\n",
      "Epoch 17/20\n",
      "\u001b[1m88/88\u001b[0m \u001b[32m━━━━━━━━━━━━━━━━━━━━\u001b[0m\u001b[37m\u001b[0m \u001b[1m3s\u001b[0m 39ms/step - accuracy: 0.8562 - loss: 0.3045 - val_accuracy: 0.5479 - val_loss: 0.8591\n",
      "Epoch 18/20\n",
      "\u001b[1m88/88\u001b[0m \u001b[32m━━━━━━━━━━━━━━━━━━━━\u001b[0m\u001b[37m\u001b[0m \u001b[1m3s\u001b[0m 39ms/step - accuracy: 0.8246 - loss: 0.3511 - val_accuracy: 0.7611 - val_loss: 0.4665\n",
      "Epoch 19/20\n",
      "\u001b[1m88/88\u001b[0m \u001b[32m━━━━━━━━━━━━━━━━━━━━\u001b[0m\u001b[37m\u001b[0m \u001b[1m3s\u001b[0m 38ms/step - accuracy: 0.8479 - loss: 0.2937 - val_accuracy: 0.8155 - val_loss: 0.5453\n",
      "Epoch 20/20\n",
      "\u001b[1m88/88\u001b[0m \u001b[32m━━━━━━━━━━━━━━━━━━━━\u001b[0m\u001b[37m\u001b[0m \u001b[1m3s\u001b[0m 39ms/step - accuracy: 0.8493 - loss: 0.2995 - val_accuracy: 0.8083 - val_loss: 0.7827\n",
      "Fold 2 Validation Loss: 0.7827, Accuracy: 0.8083\n",
      "\n",
      "Fold 3/5\n",
      "Epoch 1/20\n",
      "\u001b[1m88/88\u001b[0m \u001b[32m━━━━━━━━━━━━━━━━━━━━\u001b[0m\u001b[37m\u001b[0m \u001b[1m12s\u001b[0m 67ms/step - accuracy: 0.6979 - loss: 16.2887 - val_accuracy: 0.7539 - val_loss: 23.8446\n",
      "Epoch 2/20\n",
      "\u001b[1m88/88\u001b[0m \u001b[32m━━━━━━━━━━━━━━━━━━━━\u001b[0m\u001b[37m\u001b[0m \u001b[1m3s\u001b[0m 39ms/step - accuracy: 0.7647 - loss: 0.8177 - val_accuracy: 0.7539 - val_loss: 27.9786\n",
      "Epoch 3/20\n",
      "\u001b[1m88/88\u001b[0m \u001b[32m━━━━━━━━━━━━━━━━━━━━\u001b[0m\u001b[37m\u001b[0m \u001b[1m3s\u001b[0m 39ms/step - accuracy: 0.7742 - loss: 0.5075 - val_accuracy: 0.7539 - val_loss: 17.6162\n",
      "Epoch 4/20\n",
      "\u001b[1m88/88\u001b[0m \u001b[32m━━━━━━━━━━━━━━━━━━━━\u001b[0m\u001b[37m\u001b[0m \u001b[1m3s\u001b[0m 39ms/step - accuracy: 0.7913 - loss: 0.4588 - val_accuracy: 0.7525 - val_loss: 10.3496\n",
      "Epoch 5/20\n",
      "\u001b[1m88/88\u001b[0m \u001b[32m━━━━━━━━━━━━━━━━━━━━\u001b[0m\u001b[37m\u001b[0m \u001b[1m3s\u001b[0m 39ms/step - accuracy: 0.7923 - loss: 0.4382 - val_accuracy: 0.7382 - val_loss: 5.5870\n",
      "Epoch 6/20\n",
      "\u001b[1m88/88\u001b[0m \u001b[32m━━━━━━━━━━━━━━━━━━━━\u001b[0m\u001b[37m\u001b[0m \u001b[1m3s\u001b[0m 38ms/step - accuracy: 0.7734 - loss: 0.4670 - val_accuracy: 0.7382 - val_loss: 1.0440\n",
      "Epoch 7/20\n",
      "\u001b[1m88/88\u001b[0m \u001b[32m━━━━━━━━━━━━━━━━━━━━\u001b[0m\u001b[37m\u001b[0m \u001b[1m3s\u001b[0m 39ms/step - accuracy: 0.7751 - loss: 0.4315 - val_accuracy: 0.7625 - val_loss: 0.5165\n",
      "Epoch 8/20\n",
      "\u001b[1m88/88\u001b[0m \u001b[32m━━━━━━━━━━━━━━━━━━━━\u001b[0m\u001b[37m\u001b[0m \u001b[1m4s\u001b[0m 40ms/step - accuracy: 0.7841 - loss: 0.4067 - val_accuracy: 0.7868 - val_loss: 0.4343\n",
      "Epoch 9/20\n",
      "\u001b[1m88/88\u001b[0m \u001b[32m━━━━━━━━━━━━━━━━━━━━\u001b[0m\u001b[37m\u001b[0m \u001b[1m3s\u001b[0m 39ms/step - accuracy: 0.7869 - loss: 0.4030 - val_accuracy: 0.8312 - val_loss: 0.3674\n",
      "Epoch 10/20\n",
      "\u001b[1m88/88\u001b[0m \u001b[32m━━━━━━━━━━━━━━━━━━━━\u001b[0m\u001b[37m\u001b[0m \u001b[1m3s\u001b[0m 39ms/step - accuracy: 0.8014 - loss: 0.3953 - val_accuracy: 0.8269 - val_loss: 0.3963\n",
      "Epoch 11/20\n",
      "\u001b[1m88/88\u001b[0m \u001b[32m━━━━━━━━━━━━━━━━━━━━\u001b[0m\u001b[37m\u001b[0m \u001b[1m3s\u001b[0m 39ms/step - accuracy: 0.7975 - loss: 0.4428 - val_accuracy: 0.7997 - val_loss: 0.4063\n",
      "Epoch 12/20\n",
      "\u001b[1m88/88\u001b[0m \u001b[32m━━━━━━━━━━━━━━━━━━━━\u001b[0m\u001b[37m\u001b[0m \u001b[1m3s\u001b[0m 39ms/step - accuracy: 0.7943 - loss: 0.3729 - val_accuracy: 0.8255 - val_loss: 0.4171\n",
      "Epoch 13/20\n",
      "\u001b[1m88/88\u001b[0m \u001b[32m━━━━━━━━━━━━━━━━━━━━\u001b[0m\u001b[37m\u001b[0m \u001b[1m3s\u001b[0m 39ms/step - accuracy: 0.8259 - loss: 0.3987 - val_accuracy: 0.7768 - val_loss: 0.7220\n",
      "Epoch 14/20\n",
      "\u001b[1m88/88\u001b[0m \u001b[32m━━━━━━━━━━━━━━━━━━━━\u001b[0m\u001b[37m\u001b[0m \u001b[1m3s\u001b[0m 39ms/step - accuracy: 0.7637 - loss: 0.5266 - val_accuracy: 0.7740 - val_loss: 0.6352\n",
      "Epoch 15/20\n",
      "\u001b[1m88/88\u001b[0m \u001b[32m━━━━━━━━━━━━━━━━━━━━\u001b[0m\u001b[37m\u001b[0m \u001b[1m3s\u001b[0m 39ms/step - accuracy: 0.7742 - loss: 0.5293 - val_accuracy: 0.8083 - val_loss: 0.4944\n",
      "Epoch 16/20\n",
      "\u001b[1m88/88\u001b[0m \u001b[32m━━━━━━━━━━━━━━━━━━━━\u001b[0m\u001b[37m\u001b[0m \u001b[1m3s\u001b[0m 40ms/step - accuracy: 0.7966 - loss: 0.4360 - val_accuracy: 0.7825 - val_loss: 0.5139\n",
      "Epoch 17/20\n",
      "\u001b[1m88/88\u001b[0m \u001b[32m━━━━━━━━━━━━━━━━━━━━\u001b[0m\u001b[37m\u001b[0m \u001b[1m3s\u001b[0m 39ms/step - accuracy: 0.8002 - loss: 0.4062 - val_accuracy: 0.7825 - val_loss: 0.5040\n",
      "Epoch 18/20\n",
      "\u001b[1m88/88\u001b[0m \u001b[32m━━━━━━━━━━━━━━━━━━━━\u001b[0m\u001b[37m\u001b[0m \u001b[1m3s\u001b[0m 39ms/step - accuracy: 0.8171 - loss: 0.3545 - val_accuracy: 0.8269 - val_loss: 0.7932\n",
      "Epoch 19/20\n",
      "\u001b[1m88/88\u001b[0m \u001b[32m━━━━━━━━━━━━━━━━━━━━\u001b[0m\u001b[37m\u001b[0m \u001b[1m3s\u001b[0m 39ms/step - accuracy: 0.8368 - loss: 0.3309 - val_accuracy: 0.7783 - val_loss: 0.4210\n",
      "Epoch 20/20\n",
      "\u001b[1m88/88\u001b[0m \u001b[32m━━━━━━━━━━━━━━━━━━━━\u001b[0m\u001b[37m\u001b[0m \u001b[1m3s\u001b[0m 39ms/step - accuracy: 0.8135 - loss: 0.3444 - val_accuracy: 0.8155 - val_loss: 0.3960\n",
      "Fold 3 Validation Loss: 0.3960, Accuracy: 0.8155\n",
      "\n",
      "Fold 4/5\n",
      "Epoch 1/20\n",
      "\u001b[1m88/88\u001b[0m \u001b[32m━━━━━━━━━━━━━━━━━━━━\u001b[0m\u001b[37m\u001b[0m \u001b[1m15s\u001b[0m 99ms/step - accuracy: 0.6862 - loss: 13.6364 - val_accuracy: 0.2464 - val_loss: 139.3992\n",
      "Epoch 2/20\n",
      "\u001b[1m88/88\u001b[0m \u001b[32m━━━━━━━━━━━━━━━━━━━━\u001b[0m\u001b[37m\u001b[0m \u001b[1m3s\u001b[0m 40ms/step - accuracy: 0.7466 - loss: 0.9194 - val_accuracy: 0.2464 - val_loss: 94.4383\n",
      "Epoch 3/20\n",
      "\u001b[1m88/88\u001b[0m \u001b[32m━━━━━━━━━━━━━━━━━━━━\u001b[0m\u001b[37m\u001b[0m \u001b[1m3s\u001b[0m 39ms/step - accuracy: 0.7321 - loss: 0.5881 - val_accuracy: 0.4470 - val_loss: 55.3901\n",
      "Epoch 4/20\n",
      "\u001b[1m88/88\u001b[0m \u001b[32m━━━━━━━━━━━━━━━━━━━━\u001b[0m\u001b[37m\u001b[0m \u001b[1m3s\u001b[0m 39ms/step - accuracy: 0.7542 - loss: 0.4974 - val_accuracy: 0.6332 - val_loss: 9.5559\n",
      "Epoch 5/20\n",
      "\u001b[1m88/88\u001b[0m \u001b[32m━━━━━━━━━━━━━━━━━━━━\u001b[0m\u001b[37m\u001b[0m \u001b[1m3s\u001b[0m 39ms/step - accuracy: 0.7421 - loss: 0.4688 - val_accuracy: 0.6175 - val_loss: 5.7511\n",
      "Epoch 6/20\n",
      "\u001b[1m88/88\u001b[0m \u001b[32m━━━━━━━━━━━━━━━━━━━━\u001b[0m\u001b[37m\u001b[0m \u001b[1m3s\u001b[0m 39ms/step - accuracy: 0.7561 - loss: 0.4508 - val_accuracy: 0.7077 - val_loss: 0.7529\n",
      "Epoch 7/20\n",
      "\u001b[1m88/88\u001b[0m \u001b[32m━━━━━━━━━━━━━━━━━━━━\u001b[0m\u001b[37m\u001b[0m \u001b[1m3s\u001b[0m 39ms/step - accuracy: 0.7423 - loss: 0.4636 - val_accuracy: 0.7479 - val_loss: 0.4599\n",
      "Epoch 8/20\n",
      "\u001b[1m88/88\u001b[0m \u001b[32m━━━━━━━━━━━━━━━━━━━━\u001b[0m\u001b[37m\u001b[0m \u001b[1m3s\u001b[0m 39ms/step - accuracy: 0.7474 - loss: 0.4838 - val_accuracy: 0.7636 - val_loss: 0.4431\n",
      "Epoch 9/20\n",
      "\u001b[1m88/88\u001b[0m \u001b[32m━━━━━━━━━━━━━━━━━━━━\u001b[0m\u001b[37m\u001b[0m \u001b[1m3s\u001b[0m 39ms/step - accuracy: 0.7532 - loss: 0.4877 - val_accuracy: 0.7636 - val_loss: 0.4259\n",
      "Epoch 10/20\n",
      "\u001b[1m88/88\u001b[0m \u001b[32m━━━━━━━━━━━━━━━━━━━━\u001b[0m\u001b[37m\u001b[0m \u001b[1m3s\u001b[0m 40ms/step - accuracy: 0.7632 - loss: 0.4530 - val_accuracy: 0.7536 - val_loss: 0.4460\n",
      "Epoch 11/20\n",
      "\u001b[1m88/88\u001b[0m \u001b[32m━━━━━━━━━━━━━━━━━━━━\u001b[0m\u001b[37m\u001b[0m \u001b[1m3s\u001b[0m 39ms/step - accuracy: 0.7603 - loss: 0.4713 - val_accuracy: 0.7564 - val_loss: 0.4436\n",
      "Epoch 12/20\n",
      "\u001b[1m88/88\u001b[0m \u001b[32m━━━━━━━━━━━━━━━━━━━━\u001b[0m\u001b[37m\u001b[0m \u001b[1m3s\u001b[0m 39ms/step - accuracy: 0.7721 - loss: 0.4341 - val_accuracy: 0.7765 - val_loss: 0.6100\n",
      "Epoch 13/20\n",
      "\u001b[1m88/88\u001b[0m \u001b[32m━━━━━━━━━━━━━━━━━━━━\u001b[0m\u001b[37m\u001b[0m \u001b[1m3s\u001b[0m 39ms/step - accuracy: 0.7686 - loss: 0.4422 - val_accuracy: 0.7579 - val_loss: 0.5207\n",
      "Epoch 14/20\n",
      "\u001b[1m88/88\u001b[0m \u001b[32m━━━━━━━━━━━━━━━━━━━━\u001b[0m\u001b[37m\u001b[0m \u001b[1m3s\u001b[0m 39ms/step - accuracy: 0.7368 - loss: 0.5147 - val_accuracy: 0.7751 - val_loss: 0.4116\n",
      "Epoch 15/20\n",
      "\u001b[1m88/88\u001b[0m \u001b[32m━━━━━━━━━━━━━━━━━━━━\u001b[0m\u001b[37m\u001b[0m \u001b[1m3s\u001b[0m 39ms/step - accuracy: 0.7663 - loss: 0.4649 - val_accuracy: 0.7579 - val_loss: 0.4245\n",
      "Epoch 16/20\n",
      "\u001b[1m88/88\u001b[0m \u001b[32m━━━━━━━━━━━━━━━━━━━━\u001b[0m\u001b[37m\u001b[0m \u001b[1m3s\u001b[0m 39ms/step - accuracy: 0.7655 - loss: 0.4308 - val_accuracy: 0.7521 - val_loss: 0.4195\n",
      "Epoch 17/20\n",
      "\u001b[1m88/88\u001b[0m \u001b[32m━━━━━━━━━━━━━━━━━━━━\u001b[0m\u001b[37m\u001b[0m \u001b[1m3s\u001b[0m 39ms/step - accuracy: 0.7572 - loss: 0.4167 - val_accuracy: 0.8338 - val_loss: 0.3650\n",
      "Epoch 18/20\n",
      "\u001b[1m88/88\u001b[0m \u001b[32m━━━━━━━━━━━━━━━━━━━━\u001b[0m\u001b[37m\u001b[0m \u001b[1m3s\u001b[0m 39ms/step - accuracy: 0.7878 - loss: 0.4025 - val_accuracy: 0.7794 - val_loss: 0.4098\n",
      "Epoch 19/20\n",
      "\u001b[1m88/88\u001b[0m \u001b[32m━━━━━━━━━━━━━━━━━━━━\u001b[0m\u001b[37m\u001b[0m \u001b[1m3s\u001b[0m 40ms/step - accuracy: 0.7900 - loss: 0.4194 - val_accuracy: 0.8023 - val_loss: 0.6368\n",
      "Epoch 20/20\n",
      "\u001b[1m88/88\u001b[0m \u001b[32m━━━━━━━━━━━━━━━━━━━━\u001b[0m\u001b[37m\u001b[0m \u001b[1m3s\u001b[0m 40ms/step - accuracy: 0.7992 - loss: 0.4171 - val_accuracy: 0.7951 - val_loss: 0.3734\n",
      "Fold 4 Validation Loss: 0.3734, Accuracy: 0.7951\n",
      "\n",
      "Fold 5/5\n",
      "Epoch 1/20\n",
      "\u001b[1m88/88\u001b[0m \u001b[32m━━━━━━━━━━━━━━━━━━━━\u001b[0m\u001b[37m\u001b[0m \u001b[1m13s\u001b[0m 73ms/step - accuracy: 0.7045 - loss: 15.5349 - val_accuracy: 0.7536 - val_loss: 48.2744\n",
      "Epoch 2/20\n",
      "\u001b[1m88/88\u001b[0m \u001b[32m━━━━━━━━━━━━━━━━━━━━\u001b[0m\u001b[37m\u001b[0m \u001b[1m3s\u001b[0m 40ms/step - accuracy: 0.7606 - loss: 1.1943 - val_accuracy: 0.7536 - val_loss: 23.5931\n",
      "Epoch 3/20\n",
      "\u001b[1m88/88\u001b[0m \u001b[32m━━━━━━━━━━━━━━━━━━━━\u001b[0m\u001b[37m\u001b[0m \u001b[1m3s\u001b[0m 39ms/step - accuracy: 0.7720 - loss: 0.6234 - val_accuracy: 0.7393 - val_loss: 9.5667\n",
      "Epoch 4/20\n",
      "\u001b[1m88/88\u001b[0m \u001b[32m━━━━━━━━━━━━━━━━━━━━\u001b[0m\u001b[37m\u001b[0m \u001b[1m3s\u001b[0m 39ms/step - accuracy: 0.7732 - loss: 0.4608 - val_accuracy: 0.4871 - val_loss: 15.7232\n",
      "Epoch 5/20\n",
      "\u001b[1m88/88\u001b[0m \u001b[32m━━━━━━━━━━━━━━━━━━━━\u001b[0m\u001b[37m\u001b[0m \u001b[1m3s\u001b[0m 39ms/step - accuracy: 0.7753 - loss: 0.4951 - val_accuracy: 0.5487 - val_loss: 4.0504\n",
      "Epoch 6/20\n",
      "\u001b[1m88/88\u001b[0m \u001b[32m━━━━━━━━━━━━━━━━━━━━\u001b[0m\u001b[37m\u001b[0m \u001b[1m3s\u001b[0m 39ms/step - accuracy: 0.7797 - loss: 0.4437 - val_accuracy: 0.7636 - val_loss: 1.0165\n",
      "Epoch 7/20\n",
      "\u001b[1m88/88\u001b[0m \u001b[32m━━━━━━━━━━━━━━━━━━━━\u001b[0m\u001b[37m\u001b[0m \u001b[1m3s\u001b[0m 39ms/step - accuracy: 0.7779 - loss: 0.4158 - val_accuracy: 0.8109 - val_loss: 0.6012\n",
      "Epoch 8/20\n",
      "\u001b[1m88/88\u001b[0m \u001b[32m━━━━━━━━━━━━━━━━━━━━\u001b[0m\u001b[37m\u001b[0m \u001b[1m3s\u001b[0m 39ms/step - accuracy: 0.7817 - loss: 0.4225 - val_accuracy: 0.7650 - val_loss: 0.5715\n",
      "Epoch 9/20\n",
      "\u001b[1m88/88\u001b[0m \u001b[32m━━━━━━━━━━━━━━━━━━━━\u001b[0m\u001b[37m\u001b[0m \u001b[1m3s\u001b[0m 39ms/step - accuracy: 0.7837 - loss: 0.3925 - val_accuracy: 0.8152 - val_loss: 0.5192\n",
      "Epoch 10/20\n",
      "\u001b[1m88/88\u001b[0m \u001b[32m━━━━━━━━━━━━━━━━━━━━\u001b[0m\u001b[37m\u001b[0m \u001b[1m3s\u001b[0m 39ms/step - accuracy: 0.7975 - loss: 0.4111 - val_accuracy: 0.8023 - val_loss: 0.6090\n",
      "Epoch 11/20\n",
      "\u001b[1m88/88\u001b[0m \u001b[32m━━━━━━━━━━━━━━━━━━━━\u001b[0m\u001b[37m\u001b[0m \u001b[1m3s\u001b[0m 39ms/step - accuracy: 0.8011 - loss: 0.4312 - val_accuracy: 0.8166 - val_loss: 0.4552\n",
      "Epoch 12/20\n",
      "\u001b[1m88/88\u001b[0m \u001b[32m━━━━━━━━━━━━━━━━━━━━\u001b[0m\u001b[37m\u001b[0m \u001b[1m3s\u001b[0m 39ms/step - accuracy: 0.8118 - loss: 0.3427 - val_accuracy: 0.8066 - val_loss: 0.4673\n",
      "Epoch 13/20\n",
      "\u001b[1m88/88\u001b[0m \u001b[32m━━━━━━━━━━━━━━━━━━━━\u001b[0m\u001b[37m\u001b[0m \u001b[1m3s\u001b[0m 39ms/step - accuracy: 0.8001 - loss: 0.3714 - val_accuracy: 0.7808 - val_loss: 0.9894\n",
      "Epoch 14/20\n",
      "\u001b[1m88/88\u001b[0m \u001b[32m━━━━━━━━━━━━━━━━━━━━\u001b[0m\u001b[37m\u001b[0m \u001b[1m4s\u001b[0m 40ms/step - accuracy: 0.7972 - loss: 0.5588 - val_accuracy: 0.7951 - val_loss: 0.5962\n",
      "Epoch 15/20\n",
      "\u001b[1m88/88\u001b[0m \u001b[32m━━━━━━━━━━━━━━━━━━━━\u001b[0m\u001b[37m\u001b[0m \u001b[1m3s\u001b[0m 39ms/step - accuracy: 0.8084 - loss: 0.4900 - val_accuracy: 0.7794 - val_loss: 0.4873\n",
      "Epoch 16/20\n",
      "\u001b[1m88/88\u001b[0m \u001b[32m━━━━━━━━━━━━━━━━━━━━\u001b[0m\u001b[37m\u001b[0m \u001b[1m3s\u001b[0m 39ms/step - accuracy: 0.7625 - loss: 0.4008 - val_accuracy: 0.7951 - val_loss: 0.4841\n",
      "Epoch 17/20\n",
      "\u001b[1m88/88\u001b[0m \u001b[32m━━━━━━━━━━━━━━━━━━━━\u001b[0m\u001b[37m\u001b[0m \u001b[1m3s\u001b[0m 39ms/step - accuracy: 0.7981 - loss: 0.3992 - val_accuracy: 0.7822 - val_loss: 0.5117\n",
      "Epoch 18/20\n",
      "\u001b[1m88/88\u001b[0m \u001b[32m━━━━━━━━━━━━━━━━━━━━\u001b[0m\u001b[37m\u001b[0m \u001b[1m3s\u001b[0m 39ms/step - accuracy: 0.8086 - loss: 0.3693 - val_accuracy: 0.8367 - val_loss: 0.5023\n",
      "Epoch 19/20\n",
      "\u001b[1m88/88\u001b[0m \u001b[32m━━━━━━━━━━━━━━━━━━━━\u001b[0m\u001b[37m\u001b[0m \u001b[1m3s\u001b[0m 39ms/step - accuracy: 0.8272 - loss: 0.3398 - val_accuracy: 0.8195 - val_loss: 0.4756\n",
      "Epoch 20/20\n",
      "\u001b[1m88/88\u001b[0m \u001b[32m━━━━━━━━━━━━━━━━━━━━\u001b[0m\u001b[37m\u001b[0m \u001b[1m3s\u001b[0m 40ms/step - accuracy: 0.8012 - loss: 0.3676 - val_accuracy: 0.8037 - val_loss: 0.4917\n",
      "Fold 5 Validation Loss: 0.4917, Accuracy: 0.8037\n",
      "Average Validation Accuracy across 5 folds: 0.8059 +/- 0.0066\n",
      "Average Validation Loss across 5 folds: 0.6037 +/- 0.2359\n"
     ]
    }
   ],
   "source": [
    "n_splits = 5\n",
    "\n",
    "skf = StratifiedKFold(n_splits=n_splits, shuffle=True, random_state=42)\n",
    "\n",
    "fold_accuracies = []\n",
    "fold_losses = []\n",
    "\n",
    "for fold, (train_index, val_index) in enumerate(skf.split(X, y_encoded)):\n",
    "    print(f\"\\nFold {fold+1}/{n_splits}\")\n",
    "\n",
    "    X_train, X_val = X[train_index], X[val_index]\n",
    "    y_train, y_val = y_encoded[train_index], y_encoded[val_index]\n",
    "\n",
    "    train_dataset = tf.data.Dataset.from_tensor_slices((X_train, y_train))\n",
    "    train_dataset = train_dataset.shuffle(buffer_size=len(X_train)).batch(32).prefetch(tf.data.AUTOTUNE)\n",
    "\n",
    "    val_dataset = tf.data.Dataset.from_tensor_slices((X_val, y_val))\n",
    "    val_dataset = val_dataset.batch(32).prefetch(tf.data.AUTOTUNE)\n",
    "\n",
    "    model = create_cnn_model(input_shape, num_classes)\n",
    "\n",
    "    history = model.fit(train_dataset,\n",
    "                        epochs=20,\n",
    "                        validation_data=val_dataset,\n",
    "                        verbose=1)\n",
    "\n",
    "    loss, accuracy = model.evaluate(val_dataset, verbose=0)\n",
    "    print(f\"Fold {fold+1} Validation Loss: {loss:.4f}, Accuracy: {accuracy:.4f}\")\n",
    "\n",
    "    fold_losses.append(loss)\n",
    "    fold_accuracies.append(accuracy)\n",
    "\n",
    "print(f\"Average Validation Accuracy across {n_splits} folds: {np.mean(fold_accuracies):.4f} +/- {np.std(fold_accuracies):.4f}\")\n",
    "print(f\"Average Validation Loss across {n_splits} folds: {np.mean(fold_losses):.4f} +/- {np.std(fold_losses):.4f}\")"
   ]
  },
  {
   "cell_type": "code",
   "execution_count": 19,
   "id": "2ad00df3",
   "metadata": {
    "execution": {
     "iopub.execute_input": "2025-07-24T01:11:43.673962Z",
     "iopub.status.busy": "2025-07-24T01:11:43.673169Z",
     "iopub.status.idle": "2025-07-24T01:13:56.379753Z",
     "shell.execute_reply": "2025-07-24T01:13:56.379169Z"
    },
    "papermill": {
     "duration": 132.898305,
     "end_time": "2025-07-24T01:13:56.380938",
     "exception": false,
     "start_time": "2025-07-24T01:11:43.482633",
     "status": "completed"
    },
    "tags": []
   },
   "outputs": [
    {
     "name": "stdout",
     "output_type": "stream",
     "text": [
      "Epoch 1/30\n",
      "\u001b[1m110/110\u001b[0m \u001b[32m━━━━━━━━━━━━━━━━━━━━\u001b[0m\u001b[37m\u001b[0m \u001b[1m13s\u001b[0m 65ms/step - accuracy: 0.7204 - loss: 11.6653\n",
      "Epoch 2/30\n",
      "\u001b[1m110/110\u001b[0m \u001b[32m━━━━━━━━━━━━━━━━━━━━\u001b[0m\u001b[37m\u001b[0m \u001b[1m4s\u001b[0m 37ms/step - accuracy: 0.7687 - loss: 0.6592\n",
      "Epoch 3/30\n",
      "\u001b[1m110/110\u001b[0m \u001b[32m━━━━━━━━━━━━━━━━━━━━\u001b[0m\u001b[37m\u001b[0m \u001b[1m4s\u001b[0m 37ms/step - accuracy: 0.7765 - loss: 0.5314\n",
      "Epoch 4/30\n",
      "\u001b[1m110/110\u001b[0m \u001b[32m━━━━━━━━━━━━━━━━━━━━\u001b[0m\u001b[37m\u001b[0m \u001b[1m4s\u001b[0m 36ms/step - accuracy: 0.8053 - loss: 0.4512\n",
      "Epoch 5/30\n",
      "\u001b[1m110/110\u001b[0m \u001b[32m━━━━━━━━━━━━━━━━━━━━\u001b[0m\u001b[37m\u001b[0m \u001b[1m4s\u001b[0m 37ms/step - accuracy: 0.7954 - loss: 0.4558\n",
      "Epoch 6/30\n",
      "\u001b[1m110/110\u001b[0m \u001b[32m━━━━━━━━━━━━━━━━━━━━\u001b[0m\u001b[37m\u001b[0m \u001b[1m4s\u001b[0m 37ms/step - accuracy: 0.7969 - loss: 0.4487\n",
      "Epoch 7/30\n",
      "\u001b[1m110/110\u001b[0m \u001b[32m━━━━━━━━━━━━━━━━━━━━\u001b[0m\u001b[37m\u001b[0m \u001b[1m4s\u001b[0m 37ms/step - accuracy: 0.8130 - loss: 0.4072\n",
      "Epoch 8/30\n",
      "\u001b[1m110/110\u001b[0m \u001b[32m━━━━━━━━━━━━━━━━━━━━\u001b[0m\u001b[37m\u001b[0m \u001b[1m4s\u001b[0m 37ms/step - accuracy: 0.7930 - loss: 0.4772\n",
      "Epoch 9/30\n",
      "\u001b[1m110/110\u001b[0m \u001b[32m━━━━━━━━━━━━━━━━━━━━\u001b[0m\u001b[37m\u001b[0m \u001b[1m4s\u001b[0m 36ms/step - accuracy: 0.8012 - loss: 0.4046\n",
      "Epoch 10/30\n",
      "\u001b[1m110/110\u001b[0m \u001b[32m━━━━━━━━━━━━━━━━━━━━\u001b[0m\u001b[37m\u001b[0m \u001b[1m4s\u001b[0m 37ms/step - accuracy: 0.7833 - loss: 0.4860\n",
      "Epoch 11/30\n",
      "\u001b[1m110/110\u001b[0m \u001b[32m━━━━━━━━━━━━━━━━━━━━\u001b[0m\u001b[37m\u001b[0m \u001b[1m4s\u001b[0m 37ms/step - accuracy: 0.8112 - loss: 0.4216\n",
      "Epoch 12/30\n",
      "\u001b[1m110/110\u001b[0m \u001b[32m━━━━━━━━━━━━━━━━━━━━\u001b[0m\u001b[37m\u001b[0m \u001b[1m4s\u001b[0m 37ms/step - accuracy: 0.7910 - loss: 0.4558\n",
      "Epoch 13/30\n",
      "\u001b[1m110/110\u001b[0m \u001b[32m━━━━━━━━━━━━━━━━━━━━\u001b[0m\u001b[37m\u001b[0m \u001b[1m4s\u001b[0m 37ms/step - accuracy: 0.8194 - loss: 0.4418\n",
      "Epoch 14/30\n",
      "\u001b[1m110/110\u001b[0m \u001b[32m━━━━━━━━━━━━━━━━━━━━\u001b[0m\u001b[37m\u001b[0m \u001b[1m4s\u001b[0m 36ms/step - accuracy: 0.8225 - loss: 0.3760\n",
      "Epoch 15/30\n",
      "\u001b[1m110/110\u001b[0m \u001b[32m━━━━━━━━━━━━━━━━━━━━\u001b[0m\u001b[37m\u001b[0m \u001b[1m4s\u001b[0m 37ms/step - accuracy: 0.8377 - loss: 0.3347\n",
      "Epoch 16/30\n",
      "\u001b[1m110/110\u001b[0m \u001b[32m━━━━━━━━━━━━━━━━━━━━\u001b[0m\u001b[37m\u001b[0m \u001b[1m4s\u001b[0m 37ms/step - accuracy: 0.8418 - loss: 0.3472\n",
      "Epoch 17/30\n",
      "\u001b[1m110/110\u001b[0m \u001b[32m━━━━━━━━━━━━━━━━━━━━\u001b[0m\u001b[37m\u001b[0m \u001b[1m4s\u001b[0m 37ms/step - accuracy: 0.8535 - loss: 0.3211\n",
      "Epoch 18/30\n",
      "\u001b[1m110/110\u001b[0m \u001b[32m━━━━━━━━━━━━━━━━━━━━\u001b[0m\u001b[37m\u001b[0m \u001b[1m4s\u001b[0m 37ms/step - accuracy: 0.8484 - loss: 0.3690\n",
      "Epoch 19/30\n",
      "\u001b[1m110/110\u001b[0m \u001b[32m━━━━━━━━━━━━━━━━━━━━\u001b[0m\u001b[37m\u001b[0m \u001b[1m4s\u001b[0m 37ms/step - accuracy: 0.8333 - loss: 0.3829\n",
      "Epoch 20/30\n",
      "\u001b[1m110/110\u001b[0m \u001b[32m━━━━━━━━━━━━━━━━━━━━\u001b[0m\u001b[37m\u001b[0m \u001b[1m4s\u001b[0m 37ms/step - accuracy: 0.8377 - loss: 0.3383\n",
      "Epoch 21/30\n",
      "\u001b[1m110/110\u001b[0m \u001b[32m━━━━━━━━━━━━━━━━━━━━\u001b[0m\u001b[37m\u001b[0m \u001b[1m4s\u001b[0m 37ms/step - accuracy: 0.8553 - loss: 0.3201\n",
      "Epoch 22/30\n",
      "\u001b[1m110/110\u001b[0m \u001b[32m━━━━━━━━━━━━━━━━━━━━\u001b[0m\u001b[37m\u001b[0m \u001b[1m4s\u001b[0m 37ms/step - accuracy: 0.8348 - loss: 0.3540\n",
      "Epoch 23/30\n",
      "\u001b[1m110/110\u001b[0m \u001b[32m━━━━━━━━━━━━━━━━━━━━\u001b[0m\u001b[37m\u001b[0m \u001b[1m4s\u001b[0m 37ms/step - accuracy: 0.8326 - loss: 0.3772\n",
      "Epoch 24/30\n",
      "\u001b[1m110/110\u001b[0m \u001b[32m━━━━━━━━━━━━━━━━━━━━\u001b[0m\u001b[37m\u001b[0m \u001b[1m4s\u001b[0m 37ms/step - accuracy: 0.8471 - loss: 0.2916\n",
      "Epoch 25/30\n",
      "\u001b[1m110/110\u001b[0m \u001b[32m━━━━━━━━━━━━━━━━━━━━\u001b[0m\u001b[37m\u001b[0m \u001b[1m4s\u001b[0m 37ms/step - accuracy: 0.8481 - loss: 0.3846\n",
      "Epoch 26/30\n",
      "\u001b[1m110/110\u001b[0m \u001b[32m━━━━━━━━━━━━━━━━━━━━\u001b[0m\u001b[37m\u001b[0m \u001b[1m4s\u001b[0m 37ms/step - accuracy: 0.8641 - loss: 0.2928\n",
      "Epoch 27/30\n",
      "\u001b[1m110/110\u001b[0m \u001b[32m━━━━━━━━━━━━━━━━━━━━\u001b[0m\u001b[37m\u001b[0m \u001b[1m4s\u001b[0m 37ms/step - accuracy: 0.8698 - loss: 0.2412\n",
      "Epoch 28/30\n",
      "\u001b[1m110/110\u001b[0m \u001b[32m━━━━━━━━━━━━━━━━━━━━\u001b[0m\u001b[37m\u001b[0m \u001b[1m4s\u001b[0m 37ms/step - accuracy: 0.8394 - loss: 0.3432\n",
      "Epoch 29/30\n",
      "\u001b[1m110/110\u001b[0m \u001b[32m━━━━━━━━━━━━━━━━━━━━\u001b[0m\u001b[37m\u001b[0m \u001b[1m4s\u001b[0m 37ms/step - accuracy: 0.8596 - loss: 0.2697\n",
      "Epoch 30/30\n",
      "\u001b[1m110/110\u001b[0m \u001b[32m━━━━━━━━━━━━━━━━━━━━\u001b[0m\u001b[37m\u001b[0m \u001b[1m4s\u001b[0m 37ms/step - accuracy: 0.8736 - loss: 0.2603\n"
     ]
    }
   ],
   "source": [
    "full_dataset = tf.data.Dataset.from_tensor_slices((X, y_encoded))\n",
    "full_dataset = full_dataset.shuffle(buffer_size=len(X)).batch(32).prefetch(tf.data.AUTOTUNE)\n",
    "\n",
    "final_model = create_cnn_model(input_shape, num_classes)\n",
    "\n",
    "history_final = final_model.fit(full_dataset,\n",
    "                                epochs=30,\n",
    "                                verbose=1)"
   ]
  },
  {
   "cell_type": "code",
   "execution_count": 20,
   "id": "7b28d993",
   "metadata": {
    "execution": {
     "iopub.execute_input": "2025-07-24T01:13:56.903389Z",
     "iopub.status.busy": "2025-07-24T01:13:56.902903Z",
     "iopub.status.idle": "2025-07-24T01:14:19.379217Z",
     "shell.execute_reply": "2025-07-24T01:14:19.378545Z"
    },
    "papermill": {
     "duration": 22.737953,
     "end_time": "2025-07-24T01:14:19.380316",
     "exception": false,
     "start_time": "2025-07-24T01:13:56.642363",
     "status": "completed"
    },
    "tags": []
   },
   "outputs": [
    {
     "data": {
      "text/plain": [
       "'/kaggle/working/final_audio_classification_model.zip'"
      ]
     },
     "execution_count": 20,
     "metadata": {},
     "output_type": "execute_result"
    }
   ],
   "source": [
    "import shutil\n",
    "\n",
    "MODEL_SAVE_PATH = 'final_audio_classification_model'\n",
    "tf.saved_model.save(final_model, MODEL_SAVE_PATH)\n",
    "\n",
    "ZIP_FILE_NAME = 'final_audio_classification_model.zip'\n",
    "shutil.make_archive(MODEL_SAVE_PATH, 'zip', MODEL_SAVE_PATH)"
   ]
  },
  {
   "cell_type": "code",
   "execution_count": 21,
   "id": "f7fe85ba",
   "metadata": {
    "execution": {
     "iopub.execute_input": "2025-07-24T01:14:19.950480Z",
     "iopub.status.busy": "2025-07-24T01:14:19.950155Z",
     "iopub.status.idle": "2025-07-24T01:14:23.386074Z",
     "shell.execute_reply": "2025-07-24T01:14:23.385217Z"
    },
    "papermill": {
     "duration": 3.748667,
     "end_time": "2025-07-24T01:14:23.387245",
     "exception": false,
     "start_time": "2025-07-24T01:14:19.638578",
     "status": "completed"
    },
    "tags": []
   },
   "outputs": [
    {
     "name": "stderr",
     "output_type": "stream",
     "text": [
      "W0000 00:00:1753319662.864790      19 tf_tfl_flatbuffer_helpers.cc:365] Ignored output_format.\n",
      "W0000 00:00:1753319662.864830      19 tf_tfl_flatbuffer_helpers.cc:368] Ignored drop_control_dependency.\n",
      "I0000 00:00:1753319662.878607      19 mlir_graph_optimization_pass.cc:401] MLIR V1 optimization pass is not enabled\n"
     ]
    }
   ],
   "source": [
    "converter = tf.lite.TFLiteConverter.from_saved_model(MODEL_SAVE_PATH)\n",
    "converter.optimizations = [tf.lite.Optimize.DEFAULT]\n",
    "\n",
    "tflite_model = converter.convert()\n",
    "\n",
    "TFLITE_MODEL_NAME = 'audio_classification_model.tflite'\n",
    "with open(TFLITE_MODEL_NAME, 'wb') as f:\n",
    "    f.write(tflite_model)"
   ]
  },
  {
   "cell_type": "code",
   "execution_count": 22,
   "id": "9fc78b3f",
   "metadata": {
    "execution": {
     "iopub.execute_input": "2025-07-24T01:14:23.902909Z",
     "iopub.status.busy": "2025-07-24T01:14:23.902103Z",
     "iopub.status.idle": "2025-07-24T01:14:23.906093Z",
     "shell.execute_reply": "2025-07-24T01:14:23.905565Z"
    },
    "papermill": {
     "duration": 0.263721,
     "end_time": "2025-07-24T01:14:23.907165",
     "exception": false,
     "start_time": "2025-07-24T01:14:23.643444",
     "status": "completed"
    },
    "tags": []
   },
   "outputs": [],
   "source": [
    "import pickle\n",
    "\n",
    "with open('label_encoder.pkl', 'wb') as f:\n",
    "    pickle.dump(label_encoder, f)"
   ]
  }
 ],
 "metadata": {
  "kaggle": {
   "accelerator": "none",
   "dataSources": [
    {
     "datasetId": 4083138,
     "sourceId": 7086984,
     "sourceType": "datasetVersion"
    }
   ],
   "dockerImageVersionId": 31089,
   "isGpuEnabled": false,
   "isInternetEnabled": true,
   "language": "python",
   "sourceType": "notebook"
  },
  "kernelspec": {
   "display_name": "Python 3",
   "language": "python",
   "name": "python3"
  },
  "language_info": {
   "codemirror_mode": {
    "name": "ipython",
    "version": 3
   },
   "file_extension": ".py",
   "mimetype": "text/x-python",
   "name": "python",
   "nbconvert_exporter": "python",
   "pygments_lexer": "ipython3",
   "version": "3.11.13"
  },
  "papermill": {
   "default_parameters": {},
   "duration": 817.614507,
   "end_time": "2025-07-24T01:14:27.519904",
   "environment_variables": {},
   "exception": null,
   "input_path": "__notebook__.ipynb",
   "output_path": "__notebook__.ipynb",
   "parameters": {},
   "start_time": "2025-07-24T01:00:49.905397",
   "version": "2.6.0"
  }
 },
 "nbformat": 4,
 "nbformat_minor": 5
}
